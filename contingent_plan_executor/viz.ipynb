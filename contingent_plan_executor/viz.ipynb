{
 "cells": [
  {
   "cell_type": "code",
   "execution_count": 118,
   "metadata": {},
   "outputs": [],
   "source": [
    "from hovor.configuration.json_configuration_provider import JsonConfigurationProvider\n",
    "import jsonpickle\n",
    "from pathlib import Path\n",
    "from ipysigma import Sigma\n",
    "import networkx as nx\n",
    "\n"
   ]
  },
  {
   "cell_type": "code",
   "execution_count": 119,
   "metadata": {},
   "outputs": [],
   "source": [
    "output_files_path = \"/home/qnc/Plan4Dial/plan4dial/plan4dial/local_data/conversation_alignment_bots/extended_ijcai/output_files\"\n",
    "configuration_provider = JsonConfigurationProvider(str(Path(output_files_path) / \"data\"))\n",
    "json = jsonpickle.encode(configuration_provider)\n",
    "configuration_provider = jsonpickle.decode(json)\n",
    "# configuration_provider.check_all_action_builders()"
   ]
  },
  {
   "cell_type": "code",
   "execution_count": 120,
   "metadata": {},
   "outputs": [
    {
     "name": "stdout",
     "output_type": "stream",
     "text": [
      "<hovor.configuration.json_configuration_provider.JsonConfigurationProvider object at 0x7fe0156ee220>\n"
     ]
    }
   ],
   "source": [
    "print(configuration_provider)"
   ]
  },
  {
   "cell_type": "code",
   "execution_count": 121,
   "metadata": {},
   "outputs": [],
   "source": [
    "plan = configuration_provider.plan"
   ]
  },
  {
   "cell_type": "code",
   "execution_count": 122,
   "metadata": {},
   "outputs": [
    {
     "name": "stdout",
     "output_type": "stream",
     "text": [
      "<hovor.planning.controller.plan.Plan object at 0x7fe0156ee430>\n"
     ]
    }
   ],
   "source": [
    "print(plan)"
   ]
  },
  {
   "cell_type": "code",
   "execution_count": 123,
   "metadata": {},
   "outputs": [],
   "source": [
    "class Node: \n",
    "    def __init__(self, action_name, is_goal, is_initial, node_id) -> None:\n",
    "        self.action_name = action_name\n",
    "        self.is_goal = is_goal \n",
    "        self.is_initial = is_initial\n",
    "        self.node_id = node_id\n",
    "        self.group =  self._group()\n",
    "\n",
    "    \n",
    "    def _group(self): \n",
    "        if self.is_goal: \n",
    "            return  \"goal\"\n",
    "        \n",
    "        if self.is_initial: \n",
    "            return \"initial\"\n",
    "        \n",
    "        return \"convo\"\n",
    "            \n",
    "    \n",
    "    def __repr__(self) -> str:\n",
    "        return f\"(action name: {self.action_name}, is_goal: {self.is_goal}, is_initial: {self.is_initial}, node_id: {self.node_id} )\"\n",
    "\n",
    "        \n",
    "    "
   ]
  },
  {
   "cell_type": "code",
   "execution_count": 124,
   "metadata": {},
   "outputs": [
    {
     "name": "stdout",
     "output_type": "stream",
     "text": [
      "[(action name: ---, is_goal: True, is_initial: False, node_id: 0 ), (action name: complete, is_goal: False, is_initial: False, node_id: 1 ), (action name: get-electric_fire_instruction, is_goal: False, is_initial: False, node_id: 3 ), (action name: dialogue_statement, is_goal: False, is_initial: False, node_id: 4 ), (action name: slot-fill__get-instrument_on_fire, is_goal: False, is_initial: False, node_id: 5 ), (action name: get-fire_type, is_goal: False, is_initial: False, node_id: 6 ), (action name: get-initial_help_request, is_goal: False, is_initial: True, node_id: 7 ), (action name: get-need_electric_fire, is_goal: False, is_initial: False, node_id: 8 ), (action name: dialogue_statement, is_goal: False, is_initial: False, node_id: 9 ), (action name: dialogue_statement, is_goal: False, is_initial: False, node_id: 10 ), (action name: get-restart_conversation, is_goal: False, is_initial: False, node_id: 11 ), (action name: get-restart_conversation, is_goal: False, is_initial: False, node_id: 12 ), (action name: get-fire_type, is_goal: False, is_initial: False, node_id: 13 ), (action name: dialogue_statement, is_goal: False, is_initial: False, node_id: 14 ), (action name: get-fire_type, is_goal: False, is_initial: False, node_id: 15 ), (action name: get-restart_conversation, is_goal: False, is_initial: False, node_id: 16 ), (action name: dialogue_statement, is_goal: False, is_initial: False, node_id: 17 ), (action name: get-restart_conversation, is_goal: False, is_initial: False, node_id: 18 ), (action name: get-restart_conversation, is_goal: False, is_initial: False, node_id: 19 ), (action name: get-initial_help_request, is_goal: False, is_initial: False, node_id: 20 ), (action name: dialogue_statement, is_goal: False, is_initial: False, node_id: 21 )]\n"
     ]
    }
   ],
   "source": [
    "nodes = []\n",
    "node_id_index = {}\n",
    "for n in plan.nodes: \n",
    "    nodes.append(Node(n.action_name, n.is_goal, n.is_initial, n.node_id))\n",
    "    node_id_index[n.node_id] = len(nodes)-1\n",
    "print(nodes)"
   ]
  },
  {
   "cell_type": "code",
   "execution_count": 125,
   "metadata": {},
   "outputs": [
    {
     "name": "stdout",
     "output_type": "stream",
     "text": [
      "{'0': 0, '1': 1, '3': 2, '4': 3, '5': 4, '6': 5, '7': 6, '8': 7, '9': 8, '10': 9, '11': 10, '12': 11, '13': 12, '14': 13, '15': 14, '16': 15, '17': 16, '18': 17, '19': 18, '20': 19, '21': 20}\n"
     ]
    }
   ],
   "source": [
    "print(node_id_index)"
   ]
  },
  {
   "cell_type": "code",
   "execution_count": 126,
   "metadata": {},
   "outputs": [
    {
     "name": "stdout",
     "output_type": "stream",
     "text": [
      "21\n",
      "21\n"
     ]
    }
   ],
   "source": [
    "set_action_names = set([n.node_id for n in nodes])\n",
    "list_actions_names = [n.node_id for n in nodes]\n",
    "print(len(set_action_names))\n",
    "print(len(list_actions_names))\n"
   ]
  },
  {
   "cell_type": "code",
   "execution_count": 127,
   "metadata": {},
   "outputs": [],
   "source": [
    "edges = []\n",
    "for e in plan.edges: \n",
    "    source = e.src.node_id\n",
    "    dest = e.dst.node_id\n",
    "    edges.append((source, dest))"
   ]
  },
  {
   "cell_type": "code",
   "execution_count": 128,
   "metadata": {},
   "outputs": [
    {
     "name": "stdout",
     "output_type": "stream",
     "text": [
      "{'0': '---', '12': 'get-need_further_help-engine_fire', '13': 'dialogue_statement', '14': 'slot-fill__get-fire_color', '15': 'dialogue_statement', '16': 'dialogue_statement', '3': 'get-engine_fire_instruction', '4': 'dialogue_statement', '1': 'complete', '6': 'get-electric_fire_instruction', '8': 'slot-fill__get-instrument_on_fire', '9': 'get-fire_type', '7': 'dialogue_statement', '10': 'get-fire_type', '11': 'get-initial_help_request', '17': 'get-restart_conversation', '18': 'get-restart_conversation', '19': 'get-fire_type', '20': 'dialogue_statement', '21': 'get-restart_conversation', '22': 'get-restart_conversation', '24': 'dialogue_statement', '25': 'get-fire_type', '28': 'get-fire_type', '29': 'get-restart_conversation', '30': 'dialogue_statement', '31': 'get-restart_conversation', '32': 'get-restart_conversation', '33': 'get-initial_help_request', '34': 'dialogue_statement'}\n"
     ]
    }
   ],
   "source": [
    "print(action_name)"
   ]
  },
  {
   "cell_type": "code",
   "execution_count": 129,
   "metadata": {},
   "outputs": [
    {
     "name": "stdout",
     "output_type": "stream",
     "text": [
      "21\n"
     ]
    }
   ],
   "source": [
    "G = nx.Graph()\n",
    "is_goal = {node.node_id: node.is_goal for node in nodes}\n",
    "is_initial = {node.node_id: node.is_initial for node in nodes}\n",
    "action_name = {node.node_id: node.action_name for node in nodes}\n",
    "labels = {node.node_id:node.group for node in nodes}\n",
    "G.add_nodes_from([n.node_id for n in nodes])\n",
    "nx.set_node_attributes(G,action_name, \"label\")\n",
    "nx.set_node_attributes(G,is_goal, \"is_goal\")\n",
    "nx.set_node_attributes(G,labels,\"group\" )\n",
    "nx.set_node_attributes(G,is_initial, \"is_initial\")\n",
    "G.add_edges_from(edges)\n",
    "print(len(G.nodes))\n"
   ]
  },
  {
   "cell_type": "code",
   "execution_count": 130,
   "metadata": {},
   "outputs": [
    {
     "data": {
      "image/png": "[encoded data removed]",
      "text/plain": [
       "<Figure size 640x480 with 1 Axes>"
      ]
     },
     "metadata": {},
     "output_type": "display_data"
    }
   ],
   "source": [
    "import matplotlib.pyplot as plt\n",
    "nx.draw(G, with_labels = True)"
   ]
  },
  {
   "cell_type": "code",
   "execution_count": 131,
   "metadata": {},
   "outputs": [
    {
     "name": "stdout",
     "output_type": "stream",
     "text": [
      "convo\n"
     ]
    }
   ],
   "source": [
    "print(G.nodes['1']['group'])"
   ]
  },
  {
   "cell_type": "code",
   "execution_count": 132,
   "metadata": {},
   "outputs": [
    {
     "name": "stdout",
     "output_type": "stream",
     "text": [
      "/home/qnc/Downloads/output.html\n"
     ]
    },
    {
     "data": {
      "text/html": [
       "\n",
       "        <iframe\n",
       "            width=\"100%\"\n",
       "            height=\"600px\"\n",
       "            src=\"/home/qnc/Downloads/output.html\"\n",
       "            frameborder=\"0\"\n",
       "            allowfullscreen\n",
       "            \n",
       "        ></iframe>\n",
       "        "
      ],
      "text/plain": [
       "<IPython.lib.display.IFrame at 0x7fe0191913a0>"
      ]
     },
     "execution_count": 132,
     "metadata": {},
     "output_type": "execute_result"
    }
   ],
   "source": [
    "from pyvis import network as net \n",
    "\n",
    "g = net.Network(notebook=True,cdn_resources='in_line')\n",
    "\n",
    "g.from_nx(G)\n",
    "#g.show_buttons()\n",
    "g.show('/home/qnc/Downloads/output.html')"
   ]
  },
  {
   "cell_type": "code",
   "execution_count": 133,
   "metadata": {},
   "outputs": [
    {
     "ename": "AttributeError",
     "evalue": "'Sigma' object has no attribute 'save_as_html'",
     "output_type": "error",
     "traceback": [
      "\u001b[0;31m---------------------------------------------------------------------------\u001b[0m",
      "\u001b[0;31mAttributeError\u001b[0m                            Traceback (most recent call last)",
      "Cell \u001b[0;32mIn[133], line 2\u001b[0m\n\u001b[1;32m      1\u001b[0m s \u001b[38;5;241m=\u001b[39m Sigma(G, node_size\u001b[38;5;241m=\u001b[39m G\u001b[38;5;241m.\u001b[39mdegree)\n\u001b[0;32m----> 2\u001b[0m \u001b[43ms\u001b[49m\u001b[38;5;241;43m.\u001b[39;49m\u001b[43msave_as_html\u001b[49m(\u001b[38;5;124m'\u001b[39m\u001b[38;5;124m/home/qnc/Downloads/output.html\u001b[39m\u001b[38;5;124m'\u001b[39m)\n",
      "\u001b[0;31mAttributeError\u001b[0m: 'Sigma' object has no attribute 'save_as_html'"
     ]
    }
   ],
   "source": [
    "s = Sigma(G, node_size= G.degree)\n",
    "s.save_as_html('/home/qnc/Downloads/output.html')"
   ]
  },
  {
   "cell_type": "code",
   "execution_count": null,
   "metadata": {},
   "outputs": [],
   "source": []
  }
 ],
 "metadata": {
  "kernelspec": {
   "display_name": "hover",
   "language": "python",
   "name": "python3"
  },
  "language_info": {
   "codemirror_mode": {
    "name": "ipython",
    "version": 3
   },
   "file_extension": ".py",
   "mimetype": "text/x-python",
   "name": "python",
   "nbconvert_exporter": "python",
   "pygments_lexer": "ipython3",
   "version": "3.8.18"
  }
 },
 "nbformat": 4,
 "nbformat_minor": 2
}
