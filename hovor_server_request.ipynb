{
 "cells": [
  {
   "cell_type": "code",
   "execution_count": 1,
   "metadata": {},
   "outputs": [],
   "source": [
    "import requests \n",
    "import json"
   ]
  },
  {
   "cell_type": "code",
   "execution_count": 2,
   "metadata": {},
   "outputs": [],
   "source": [
    "init = json.loads(requests.get(\"http://localhost:5000/new-conversation\").text)\n",
    "user_id = init[\"user_id\"]"
   ]
  },
  {
   "cell_type": "code",
   "execution_count": 4,
   "metadata": {},
   "outputs": [
    {
     "name": "stdout",
     "output_type": "stream",
     "text": [
      "{'version': '3.6.1a1', 'status': 'failure', 'message': 'No agent loaded. To continue processing, a model of a trained agent needs to be loaded.', 'reason': 'Conflict', 'details': {}, 'help': 'https://rasa.com/docs/rasa/user-guide/configuring-http-api/', 'code': 409}\n"
     ]
    }
   ],
   "source": [
    "\n",
    "t = \"request runway foam\"\n",
    "r= json.loads(\n",
    "            requests.post(\n",
    "                \"http://localhost:5006/model/parse\", json={\"text\":t}\n",
    "            ).text\n",
    "               \n",
    "        )\n",
    "print(r)"
   ]
  },
  {
   "cell_type": "code",
   "execution_count": null,
   "metadata": {},
   "outputs": [],
   "source": []
  },
  {
   "cell_type": "code",
   "execution_count": 41,
   "metadata": {},
   "outputs": [
    {
     "name": "stdout",
     "output_type": "stream",
     "text": [
      "[{'entity': 'fire_color', 'start': 6, 'end': 9, 'confidence_entity': 0.9997854828834534, 'value': 'red', 'extractor': 'DIETClassifier', 'processors': ['EntitySynonymMapper']}, {'entity': 'fire_location', 'start': 27, 'end': 37, 'confidence_entity': 0.9995954632759094, 'value': 'windscreen', 'extractor': 'DIETClassifier', 'processors': ['EntitySynonymMapper']}]\n"
     ]
    }
   ],
   "source": [
    "print(r['entities'])"
   ]
  },
  {
   "cell_type": "markdown",
   "metadata": {},
   "source": []
  },
  {
   "cell_type": "code",
   "execution_count": 32,
   "metadata": {},
   "outputs": [
    {
     "name": "stdout",
     "output_type": "stream",
     "text": [
      "{'action_name': 'slot-filler__get-fire_type_color', 'confidence': 1, 'msg': [{'HOVOR': 'Repeat'}, {'HOVOR': 'What can I help you with today?'}], 'outcome_name': 'dialogue_statement_DETDUP_dialogue_statement__reset-EQ-lock', 'status': 'success', 'stickiness': 1}\n"
     ]
    }
   ],
   "source": [
    "msg = t\n",
    "headers = {'Content-Type': 'application/json',}\n",
    "json_data = {\n",
    "                'user_id':user_id,\n",
    "                'msg': msg\n",
    "            }\n",
    "response = requests.post('http://localhost:5000/new-message', headers=headers, json=json_data).text\n",
    "print(json.loads(response))"
   ]
  },
  {
   "cell_type": "code",
   "execution_count": 5,
   "metadata": {},
   "outputs": [
    {
     "name": "stdout",
     "output_type": "stream",
     "text": [
      "{'action_name': 'get-fire_type', 'confidence': 1.0, 'msg': [{'HOVOR': 'Which instrument is burning?'}], 'outcome_name': 'intermediate-context_DETDUP_intermediate-context__set-complete-EQ-update-context_one', 'status': 'success', 'stickiness': 1}\n"
     ]
    }
   ],
   "source": [
    "msg = \"I can smell electric fire\"\n",
    "headers = {'Content-Type': 'application/json',}\n",
    "json_data = {\n",
    "                'user_id':user_id,\n",
    "                'msg': msg\n",
    "            }\n",
    "response = requests.post('http://localhost:5000/new-message', headers=headers, json=json_data).text\n",
    "print(json.loads(response))"
   ]
  },
  {
   "cell_type": "code",
   "execution_count": 6,
   "metadata": {},
   "outputs": [
    {
     "name": "stdout",
     "output_type": "stream",
     "text": [
      "{'action_name': 'slot-fill__get-instrument_on_fire', 'confidence': 1.0, 'msg': [{'HOVOR': 'Generating instructions for the case when is None colored burning.[turn_off_master_switch_alt, turn_off_master_switch_bat, close_cabin_vents, activate_fire_extinguisher, turn_off_avionics_master_switch(ams), turn_off_all_the_switches, open_cabin_vents, turn_on_cabin_heat_control_knob, check_for_open_circuits, turn_on_master_switch_alt, turn_on_master_switch_bat, turn_on_avionics_master_switch, electric_fire_not_extinguished_land]'}, {'HOVOR': 'Do you need any further help?'}], 'outcome_name': 'final-context_DETDUP_final-context__set-complete-EQ-update-electric_fire', 'status': 'success', 'stickiness': 1}\n"
     ]
    }
   ],
   "source": [
    "msg = \"wiring\"\n",
    "headers = {'Content-Type': 'application/json',}\n",
    "json_data = {\n",
    "                'user_id':user_id,\n",
    "                'msg': msg\n",
    "            }\n",
    "response = requests.post('http://localhost:5000/new-message', headers=headers, json=json_data).text\n",
    "print(json.loads(response))"
   ]
  },
  {
   "cell_type": "code",
   "execution_count": 28,
   "metadata": {},
   "outputs": [
    {
     "name": "stdout",
     "output_type": "stream",
     "text": [
      "{'action_name': 'get-have-allergy', 'confidence': 0.9995006322860718, 'msg': [{'HOVOR': \"What kind of outing would you like to go to? Please specify both your budget (high or low) and the type of atmosphere you're looking for (i.e. fun, relaxing, etc.)\"}], 'outcome_name': 'get-have-allergy_DETDUP_get-have-allergy__set-allergy-EQ-indicate_no_allergy', 'status': 'success', 'stickiness': 1}\n"
     ]
    }
   ],
   "source": [
    "msg = \"no\"\n",
    "headers = {'Content-Type': 'application/json',}\n",
    "json_data = {\n",
    "                'user_id':user_id,\n",
    "                'msg': msg,                 \n",
    "            }\n",
    "response = requests.post('http://localhost:5000/new-message', headers=headers, json=json_data).text\n",
    "print(json.loads(response))"
   ]
  },
  {
   "cell_type": "code",
   "execution_count": 29,
   "metadata": {},
   "outputs": [
    {
     "name": "stdout",
     "output_type": "stream",
     "text": [
      "{'action_name': 'slot-filler__get_outing', 'confidence': 1.0, 'msg': [{'HOVOR': 'Ok-- I need your phone number in case reservations need to be made.'}], 'outcome_name': 'set-outing_DETDUP_set-outing__assign_outing-EQ-set-golf', 'status': 'success', 'stickiness': 1}\n"
     ]
    }
   ],
   "source": [
    "msg = \"high and fun\"\n",
    "headers = {'Content-Type': 'application/json',}\n",
    "json_data = {\n",
    "                'user_id':user_id,\n",
    "                'msg': msg,                 \n",
    "            }\n",
    "response = requests.post('http://localhost:5000/new-message', headers=headers, json=json_data).text\n",
    "print(json.loads(response))"
   ]
  }
 ],
 "metadata": {
  "kernelspec": {
   "display_name": "hover",
   "language": "python",
   "name": "python3"
  },
  "language_info": {
   "codemirror_mode": {
    "name": "ipython",
    "version": 3
   },
   "file_extension": ".py",
   "mimetype": "text/x-python",
   "name": "python",
   "nbconvert_exporter": "python",
   "pygments_lexer": "ipython3",
   "version": "3.8.18"
  }
 },
 "nbformat": 4,
 "nbformat_minor": 2
}
